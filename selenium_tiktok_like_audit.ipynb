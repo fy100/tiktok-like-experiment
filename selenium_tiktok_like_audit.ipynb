{
 "cells": [
  {
   "cell_type": "code",
   "execution_count": 1,
   "id": "4a616b38",
   "metadata": {},
   "outputs": [],
   "source": [
    "#pip install Selenium"
   ]
  },
  {
   "cell_type": "code",
   "execution_count": 2,
   "id": "5366ecf9",
   "metadata": {},
   "outputs": [],
   "source": [
    "from selenium import webdriver\n",
    "from selenium.webdriver.common.by import By # contains operators for the type of search we want to do\n",
    "from selenium.webdriver.common.keys import Keys\n",
    "import time"
   ]
  },
  {
   "cell_type": "markdown",
   "id": "f06bdc7b",
   "metadata": {},
   "source": [
    "### 1. Login with email\n",
    "it will require manual verification at the end though"
   ]
  },
  {
   "cell_type": "code",
   "execution_count": 10,
   "id": "94752ef2",
   "metadata": {},
   "outputs": [
    {
     "data": {
      "text/plain": [
       "'\\n        \\n    def preload_batches(bot_batch_num):\\n    \\n        # preload bot_batch_num * 30 posts on page\\n        \\n        self.batch_num = bot_batch_num\\n        \\n        \\n    def run_like_audit(self, approach):\\n        if approach = \"random\":\\n            self.approach = \"random\"\\n            run_random_like(self,10)\\n        elif approach = \"hashtag\":\\n            self.approach = \"hashtag\"\\n            run_hashtag_like(self,)\\n        elif approach = \"content\":\\n            self.approach = \"content\"\\n            run_content_like(self,)\\n            \\n            \\n\\n    def run_random_like(self,batch_num):\\n        self.to_like_list_random = generate_random_like_list(self,batch_num) #get the randomly generated list to like \\n        \\n    \\n'"
      ]
     },
     "execution_count": 10,
     "metadata": {},
     "output_type": "execute_result"
    }
   ],
   "source": [
    "class Tiktok_audit:\n",
    "\n",
    "    def __init__(self, bot_user_num, bot_test_scenario, bot_email, bot_password):\n",
    "        self.user_num = bot_user_num\n",
    "        self.test_scenario = bot_test_scenario\n",
    "        self.email = bot_email\n",
    "        self.password = bot_password\n",
    "        self.liked_list = []\n",
    "        \n",
    "        #different approaches of selecting posts to like\n",
    "        self.approach = None #random, hashtag, content\n",
    "        self.to_like_list_random = [] #randomly\n",
    "        self.to_like_list_hashtag = [] #user personas defined by set of hashtags\n",
    "        self.to_like_list_content = []  #those that matched specific content creators or sounds\n",
    "        \n",
    "        self.batch_num = None  #1 batch = 30 posts\n",
    "        self.current_batch_num = None\n",
    "        \n",
    "\n",
    "    def login(self):\n",
    "        browser = webdriver.Firefox()\n",
    "        browser.get('https://www.tiktok.com/en/') #link to login page\n",
    "\n",
    "        time.sleep(1)\n",
    "\n",
    "        # click \"use phone/number/email\" on login page\n",
    "        use_email = browser.find_element(By.XPATH, \"/html/body/div[5]/div[3]/div/div/div/div[1]/div/div/div[1]/div[2]/div[2]\")\n",
    "        use_email.click()\n",
    "\n",
    "        time.sleep(1)\n",
    "\n",
    "        # click \"login with email or username\"\n",
    "        browser.find_element(By.XPATH, \"/html/body/div[5]/div[3]/div/div/div/div[1]/div[2]/form/div[1]/a\").click()\n",
    "\n",
    "\n",
    "        time.sleep(1)\n",
    "\n",
    "        input_username = browser.find_element(By.XPATH, \"/html/body/div[5]/div[3]/div/div/div/div[1]/div[2]/form/div[1]/input\")\n",
    "        input_password = browser.find_element(By.XPATH, \"/html/body/div[5]/div[3]/div/div/div/div[1]/div[2]/form/div[2]/div/input\")\n",
    "\n",
    "        input_username.send_keys(self.email)\n",
    "        input_password.send_keys(self.password)\n",
    "\n",
    "        time.sleep(1)\n",
    "\n",
    "        login = browser.find_element(By.XPATH, \"/html/body/div[5]/div[3]/div/div/div/div[1]/div[2]/form/button\")\n",
    "        login.click()\n",
    "\n",
    "\"\"\"\n",
    "        \n",
    "    def preload_batches(bot_batch_num):\n",
    "    \n",
    "        # preload bot_batch_num * 30 posts on page\n",
    "        \n",
    "        self.batch_num = bot_batch_num\n",
    "        \n",
    "        \n",
    "    def run_like_audit(self, approach):\n",
    "        if approach = \"random\":\n",
    "            self.approach = \"random\"\n",
    "            run_random_like(self,10)\n",
    "        elif approach = \"hashtag\":\n",
    "            self.approach = \"hashtag\"\n",
    "            run_hashtag_like(self,)\n",
    "        elif approach = \"content\":\n",
    "            self.approach = \"content\"\n",
    "            run_content_like(self,)\n",
    "            \n",
    "            \n",
    "\n",
    "    def run_random_like(self,batch_num):\n",
    "        self.to_like_list_random = generate_random_like_list(self,batch_num) #get the randomly generated list to like \n",
    "        \n",
    "    \n",
    "\"\"\"\n",
    "        "
   ]
  },
  {
   "cell_type": "code",
   "execution_count": 11,
   "id": "1332b0ff",
   "metadata": {},
   "outputs": [],
   "source": [
    "johanna = Tiktok_audit(1,2,\"jhsunlee03@gmail.com\",\"tHyundai21@@\") #put a random # for param bot_num & bot_test_scenario\n",
    "johanna.login()"
   ]
  },
  {
   "cell_type": "markdown",
   "id": "ef3775c2",
   "metadata": {},
   "source": [
    "### 2. Collect \"like\" data on \"For You\" page\n",
    "xpath to like: //*[@id=\"main-content-homepage_hot\"]/div[1]/div[4]/div/div[2]/div[2]/button[1]"
   ]
  }
 ],
 "metadata": {
  "kernelspec": {
   "display_name": "Python 3 (ipykernel)",
   "language": "python",
   "name": "python3"
  },
  "language_info": {
   "codemirror_mode": {
    "name": "ipython",
    "version": 3
   },
   "file_extension": ".py",
   "mimetype": "text/x-python",
   "name": "python",
   "nbconvert_exporter": "python",
   "pygments_lexer": "ipython3",
   "version": "3.11.4"
  }
 },
 "nbformat": 4,
 "nbformat_minor": 5
}
