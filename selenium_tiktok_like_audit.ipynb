{
 "cells": [
  {
   "cell_type": "code",
   "execution_count": null,
   "id": "4a616b38",
   "metadata": {},
   "outputs": [],
   "source": [
    "#pip install Selenium"
   ]
  },
  {
   "cell_type": "code",
   "execution_count": 1,
   "id": "5366ecf9",
   "metadata": {},
   "outputs": [],
   "source": [
    "from selenium import webdriver\n",
    "from selenium.webdriver.common.by import By # contains operators for the type of search we want to do\n",
    "from selenium.webdriver.common.keys import Keys\n",
    "import time\n",
    "import random"
   ]
  },
  {
   "cell_type": "markdown",
   "id": "f06bdc7b",
   "metadata": {},
   "source": [
    "### 1. Login with email\n",
    "it will require manual verification at the end though\n",
    "### 2. Get video list and like "
   ]
  },
  {
   "cell_type": "code",
   "execution_count": 23,
   "id": "94752ef2",
   "metadata": {},
   "outputs": [],
   "source": [
    "class Tiktok_audit:\n",
    "\n",
    "    def __init__(self, bot_user_num, bot_test_scenario, bot_email, bot_password):\n",
    "        self.user_num = bot_user_num\n",
    "        self.test_scenario = bot_test_scenario\n",
    "        self.email = bot_email\n",
    "        self.password = bot_password\n",
    "        self.browser = webdriver.Firefox()\n",
    "        self.liked_list = []\n",
    "        \n",
    "        #different approaches of selecting posts to like\n",
    "        self.approach = None #random, hashtag, content\n",
    "        self.to_like_list_random = [] #randomly\n",
    "        self.to_like_list_hashtag = [] #user personas defined by set of hashtags\n",
    "        self.to_like_list_content = []  #those that matched specific content creators or sounds\n",
    "        \n",
    "        self.batch_num = None  #1 batch = 30 posts\n",
    "        self.videos_list = []\n",
    "    \n",
    "    def fetch_tiktok(self):\n",
    "        self.browser.get('https://www.tiktok.com/en/') #link to login page\n",
    "\n",
    "    def login(self):\n",
    "        time.sleep(1)\n",
    "\n",
    "        # click \"use phone/number/email\" on login page\n",
    "        use_email = self.browser.find_element(By.XPATH, \"/html/body/div[5]/div[3]/div/div/div/div[1]/div/div/div[1]/div[2]/div[2]\")\n",
    "        use_email.click()\n",
    "\n",
    "        time.sleep(1)\n",
    "\n",
    "        # click \"login with email or username\"\n",
    "        self.browser.find_element(By.XPATH, \"/html/body/div[5]/div[3]/div/div/div/div[1]/div[2]/form/div[1]/a\").click()\n",
    "\n",
    "        time.sleep(1)\n",
    "\n",
    "        input_username = self.browser.find_element(By.XPATH, \"/html/body/div[5]/div[3]/div/div/div/div[1]/div[2]/form/div[1]/input\")\n",
    "        input_password = self.browser.find_element(By.XPATH, \"/html/body/div[5]/div[3]/div/div/div/div[1]/div[2]/form/div[2]/div/input\")\n",
    "\n",
    "        input_username.send_keys(self.email)\n",
    "        input_password.send_keys(self.password)\n",
    "\n",
    "        time.sleep(1)\n",
    "\n",
    "        login = self.browser.find_element(By.XPATH, \"/html/body/div[5]/div[3]/div/div/div/div[1]/div[2]/form/button\")\n",
    "        login.click()\n",
    "    \n",
    "    def get_video_list_and_like(self):\n",
    "        self.browser.get(self.browser.current_url)\n",
    "        time.sleep(2)\n",
    "        self.browser.refresh()\n",
    "        time.sleep(17)\n",
    "        video_list = self.browser.find_elements(By.XPATH, '//*[@class=\"css-14bp9b0-DivItemContainer etvrc4k0\"]')\n",
    "        print(video_list)\n",
    "        for video in video_list: #like first three videos\n",
    "            print(video)\n",
    "            time.sleep(random.randint(1, 4))\n",
    "            like = video.find_element(By.XPATH, './/*[@class=\"css-1ok4pbl-ButtonActionItem e1hk3hf90\"]')\n",
    "            like.click()\n",
    "    \n",
    "        "
   ]
  },
  {
   "cell_type": "code",
   "execution_count": 24,
   "id": "1332b0ff",
   "metadata": {},
   "outputs": [
    {
     "ename": "WebDriverException",
     "evalue": "Message: Failed to decode response from marionette\n",
     "output_type": "error",
     "traceback": [
      "\u001b[0;31m---------------------------------------------------------------------------\u001b[0m",
      "\u001b[0;31mWebDriverException\u001b[0m                        Traceback (most recent call last)",
      "Cell \u001b[0;32mIn[24], line 4\u001b[0m\n\u001b[1;32m      2\u001b[0m johanna\u001b[38;5;241m.\u001b[39mfetch_tiktok()\n\u001b[1;32m      3\u001b[0m johanna\u001b[38;5;241m.\u001b[39mlogin()\n\u001b[0;32m----> 4\u001b[0m johanna\u001b[38;5;241m.\u001b[39mget_video_list_and_like()\n",
      "Cell \u001b[0;32mIn[23], line 53\u001b[0m, in \u001b[0;36mTiktok_audit.get_video_list_and_like\u001b[0;34m(self)\u001b[0m\n\u001b[1;32m     51\u001b[0m \u001b[38;5;28mself\u001b[39m\u001b[38;5;241m.\u001b[39mbrowser\u001b[38;5;241m.\u001b[39mrefresh()\n\u001b[1;32m     52\u001b[0m time\u001b[38;5;241m.\u001b[39msleep(\u001b[38;5;241m17\u001b[39m)\n\u001b[0;32m---> 53\u001b[0m video_list \u001b[38;5;241m=\u001b[39m \u001b[38;5;28mself\u001b[39m\u001b[38;5;241m.\u001b[39mbrowser\u001b[38;5;241m.\u001b[39mfind_elements(By\u001b[38;5;241m.\u001b[39mXPATH, \u001b[38;5;124m'\u001b[39m\u001b[38;5;124m//*[@class=\u001b[39m\u001b[38;5;124m\"\u001b[39m\u001b[38;5;124mcss-14bp9b0-DivItemContainer etvrc4k0\u001b[39m\u001b[38;5;124m\"\u001b[39m\u001b[38;5;124m]\u001b[39m\u001b[38;5;124m'\u001b[39m)\n\u001b[1;32m     54\u001b[0m \u001b[38;5;28mprint\u001b[39m(video_list)\n\u001b[1;32m     55\u001b[0m \u001b[38;5;28;01mfor\u001b[39;00m video \u001b[38;5;129;01min\u001b[39;00m video_list: \u001b[38;5;66;03m#like first three videos\u001b[39;00m\n",
      "File \u001b[0;32m~/anaconda3/lib/python3.11/site-packages/selenium/webdriver/remote/webdriver.py:771\u001b[0m, in \u001b[0;36mWebDriver.find_elements\u001b[0;34m(self, by, value)\u001b[0m\n\u001b[1;32m    767\u001b[0m     value \u001b[38;5;241m=\u001b[39m \u001b[38;5;124mf\u001b[39m\u001b[38;5;124m'\u001b[39m\u001b[38;5;124m[name=\u001b[39m\u001b[38;5;124m\"\u001b[39m\u001b[38;5;132;01m{\u001b[39;00mvalue\u001b[38;5;132;01m}\u001b[39;00m\u001b[38;5;124m\"\u001b[39m\u001b[38;5;124m]\u001b[39m\u001b[38;5;124m'\u001b[39m\n\u001b[1;32m    769\u001b[0m \u001b[38;5;66;03m# Return empty list if driver returns null\u001b[39;00m\n\u001b[1;32m    770\u001b[0m \u001b[38;5;66;03m# See https://github.com/SeleniumHQ/selenium/issues/4555\u001b[39;00m\n\u001b[0;32m--> 771\u001b[0m \u001b[38;5;28;01mreturn\u001b[39;00m \u001b[38;5;28mself\u001b[39m\u001b[38;5;241m.\u001b[39mexecute(Command\u001b[38;5;241m.\u001b[39mFIND_ELEMENTS, {\u001b[38;5;124m\"\u001b[39m\u001b[38;5;124musing\u001b[39m\u001b[38;5;124m\"\u001b[39m: by, \u001b[38;5;124m\"\u001b[39m\u001b[38;5;124mvalue\u001b[39m\u001b[38;5;124m\"\u001b[39m: value})[\u001b[38;5;124m\"\u001b[39m\u001b[38;5;124mvalue\u001b[39m\u001b[38;5;124m\"\u001b[39m] \u001b[38;5;129;01mor\u001b[39;00m []\n",
      "File \u001b[0;32m~/anaconda3/lib/python3.11/site-packages/selenium/webdriver/remote/webdriver.py:347\u001b[0m, in \u001b[0;36mWebDriver.execute\u001b[0;34m(self, driver_command, params)\u001b[0m\n\u001b[1;32m    345\u001b[0m response \u001b[38;5;241m=\u001b[39m \u001b[38;5;28mself\u001b[39m\u001b[38;5;241m.\u001b[39mcommand_executor\u001b[38;5;241m.\u001b[39mexecute(driver_command, params)\n\u001b[1;32m    346\u001b[0m \u001b[38;5;28;01mif\u001b[39;00m response:\n\u001b[0;32m--> 347\u001b[0m     \u001b[38;5;28mself\u001b[39m\u001b[38;5;241m.\u001b[39merror_handler\u001b[38;5;241m.\u001b[39mcheck_response(response)\n\u001b[1;32m    348\u001b[0m     response[\u001b[38;5;124m\"\u001b[39m\u001b[38;5;124mvalue\u001b[39m\u001b[38;5;124m\"\u001b[39m] \u001b[38;5;241m=\u001b[39m \u001b[38;5;28mself\u001b[39m\u001b[38;5;241m.\u001b[39m_unwrap_value(response\u001b[38;5;241m.\u001b[39mget(\u001b[38;5;124m\"\u001b[39m\u001b[38;5;124mvalue\u001b[39m\u001b[38;5;124m\"\u001b[39m, \u001b[38;5;28;01mNone\u001b[39;00m))\n\u001b[1;32m    349\u001b[0m     \u001b[38;5;28;01mreturn\u001b[39;00m response\n",
      "File \u001b[0;32m~/anaconda3/lib/python3.11/site-packages/selenium/webdriver/remote/errorhandler.py:229\u001b[0m, in \u001b[0;36mErrorHandler.check_response\u001b[0;34m(self, response)\u001b[0m\n\u001b[1;32m    227\u001b[0m         alert_text \u001b[38;5;241m=\u001b[39m value[\u001b[38;5;124m\"\u001b[39m\u001b[38;5;124malert\u001b[39m\u001b[38;5;124m\"\u001b[39m]\u001b[38;5;241m.\u001b[39mget(\u001b[38;5;124m\"\u001b[39m\u001b[38;5;124mtext\u001b[39m\u001b[38;5;124m\"\u001b[39m)\n\u001b[1;32m    228\u001b[0m     \u001b[38;5;28;01mraise\u001b[39;00m exception_class(message, screen, stacktrace, alert_text)  \u001b[38;5;66;03m# type: ignore[call-arg]  # mypy is not smart enough here\u001b[39;00m\n\u001b[0;32m--> 229\u001b[0m \u001b[38;5;28;01mraise\u001b[39;00m exception_class(message, screen, stacktrace)\n",
      "\u001b[0;31mWebDriverException\u001b[0m: Message: Failed to decode response from marionette\n"
     ]
    }
   ],
   "source": [
    "johanna = Tiktok_audit(1,2,\"jhsunlee03@gmail.com\",\"tHyundai21@@\") #put a random # for param bot_num & bot_test_scenario\n",
    "johanna.fetch_tiktok()\n",
    "johanna.login()\n",
    "johanna.get_video_list_and_like()"
   ]
  }
 ],
 "metadata": {
  "kernelspec": {
   "display_name": "Python 3 (ipykernel)",
   "language": "python",
   "name": "python3"
  },
  "language_info": {
   "codemirror_mode": {
    "name": "ipython",
    "version": 3
   },
   "file_extension": ".py",
   "mimetype": "text/x-python",
   "name": "python",
   "nbconvert_exporter": "python",
   "pygments_lexer": "ipython3",
   "version": "3.11.4"
  }
 },
 "nbformat": 4,
 "nbformat_minor": 5
}
