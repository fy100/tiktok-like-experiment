{
 "cells": [
  {
   "cell_type": "code",
   "execution_count": null,
   "id": "4a616b38",
   "metadata": {},
   "outputs": [],
   "source": [
    "#pip install Selenium"
   ]
  },
  {
   "cell_type": "code",
   "execution_count": 1,
   "id": "5366ecf9",
   "metadata": {},
   "outputs": [],
   "source": [
    "from selenium import webdriver\n",
    "from selenium.webdriver.common.by import By # contains operators for the type of search we want to do\n",
    "from selenium.webdriver.common.keys import Keys\n",
    "import time\n",
    "import random"
   ]
  },
  {
   "cell_type": "markdown",
   "id": "f06bdc7b",
   "metadata": {},
   "source": [
    "### 1. Login with email\n",
    "it will require manual verification at the end though\n",
    "### 2. Get video list and like "
   ]
  },
  {
   "cell_type": "code",
   "execution_count": 23,
   "id": "94752ef2",
   "metadata": {},
   "outputs": [],
   "source": [
    "class Tiktok_audit:\n",
    "\n",
    "    def __init__(self, bot_user_num, bot_test_scenario, bot_email, bot_password):\n",
    "        self.user_num = bot_user_num\n",
    "        self.test_scenario = bot_test_scenario\n",
    "        self.email = bot_email\n",
    "        self.password = bot_password\n",
    "        self.browser = webdriver.Firefox()\n",
    "        self.liked_list = []\n",
    "        \n",
    "        #different approaches of selecting posts to like\n",
    "        self.approach = None #random, hashtag, content\n",
    "        self.to_like_list_random = [] #randomly\n",
    "        self.to_like_list_hashtag = [] #user personas defined by set of hashtags\n",
    "        self.to_like_list_content = []  #those that matched specific content creators or sounds\n",
    "        \n",
    "        self.batch_num = None  #1 batch = 30 posts\n",
    "        self.videos_list = []\n",
    "    \n",
    "    def fetch_tiktok(self):\n",
    "        self.browser.get('https://www.tiktok.com/en/') #link to login page\n",
    "\n",
    "    def login(self):\n",
    "        time.sleep(1)\n",
    "\n",
    "        # click \"use phone/number/email\" on login page\n",
    "        use_email = self.browser.find_element(By.XPATH, \"/html/body/div[5]/div[3]/div/div/div/div[1]/div/div/div[1]/div[2]/div[2]\")\n",
    "        use_email.click()\n",
    "\n",
    "        time.sleep(1)\n",
    "\n",
    "        # click \"login with email or username\"\n",
    "        self.browser.find_element(By.XPATH, \"/html/body/div[5]/div[3]/div/div/div/div[1]/div[2]/form/div[1]/a\").click()\n",
    "\n",
    "        time.sleep(1)\n",
    "\n",
    "        input_username = self.browser.find_element(By.XPATH, \"/html/body/div[5]/div[3]/div/div/div/div[1]/div[2]/form/div[1]/input\")\n",
    "        input_password = self.browser.find_element(By.XPATH, \"/html/body/div[5]/div[3]/div/div/div/div[1]/div[2]/form/div[2]/div/input\")\n",
    "\n",
    "        input_username.send_keys(self.email)\n",
    "        input_password.send_keys(self.password)\n",
    "\n",
    "        time.sleep(1)\n",
    "\n",
    "        login = self.browser.find_element(By.XPATH, \"/html/body/div[5]/div[3]/div/div/div/div[1]/div[2]/form/button\")\n",
    "        login.click()\n",
    "    \n",
    "    def get_video_list_and_like(self):\n",
    "        self.browser.get(self.browser.current_url)\n",
    "        time.sleep(2)\n",
    "        self.browser.refresh()\n",
    "        time.sleep(17)\n",
    "        video_list = self.browser.find_elements(By.XPATH, '//*[@class=\"css-14bp9b0-DivItemContainer etvrc4k0\"]')\n",
    "        print(video_list)\n",
    "        for video in video_list: #like first three videos\n",
    "            print(video)\n",
    "            time.sleep(random.randint(1, 4))\n",
    "            like = video.find_element(By.XPATH, './/*[@class=\"css-1ok4pbl-ButtonActionItem e1hk3hf90\"]')\n",
    "            like.click()\n",
    "    \n",
    "        "
   ]
  },
  {
   "cell_type": "code",
   "execution_count": 24,
   "id": "1332b0ff",
   "metadata": {},
   "outputs": [
    {
    
    }
   ],
   "source": [
    "johanna = Tiktok_audit(1,2,\"myemail@gmail.com\",\"mypassword\") #put a random # for param bot_num & bot_test_scenario\n",
    "johanna.fetch_tiktok()\n",
    "johanna.login()\n",
    "johanna.get_video_list_and_like()"
   ]
  }
 ],
 "metadata": {
  "kernelspec": {
   "display_name": "Python 3 (ipykernel)",
   "language": "python",
   "name": "python3"
  },
  "language_info": {
   "codemirror_mode": {
    "name": "ipython",
    "version": 3
   },
   "file_extension": ".py",
   "mimetype": "text/x-python",
   "name": "python",
   "nbconvert_exporter": "python",
   "pygments_lexer": "ipython3",
   "version": "3.11.4"
  }
 },
 "nbformat": 4,
 "nbformat_minor": 5
}
