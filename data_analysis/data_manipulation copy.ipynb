{
 "cells": [
  {
   "cell_type": "markdown",
   "metadata": {},
   "source": [
    "# Data Analysis\n",
    "Table of Contents:\n",
    "* [Importing Data](#one)\n",
    "* [Data Manipulation](#two)"
   ]
  },
  {
   "cell_type": "code",
   "execution_count": 11,
   "metadata": {},
   "outputs": [],
   "source": [
    "import pandas as pd"
   ]
  },
  {
   "cell_type": "markdown",
   "metadata": {},
   "source": [
    "## 1. Importing Data <a class=\"anchor\" id=\"one\"></a>\n",
    "For each scenario, create data frame to organize which csv files belong to which scenario and test user <br>\n",
    "In order for the following code blocks to run, change variable `prefix` below to the file path stored in your computer for this project"
   ]
  },
  {
   "cell_type": "code",
   "execution_count": 2,
   "metadata": {},
   "outputs": [],
   "source": [
    "prefix = \"/Users/carolinejung/tiktok-like-experiment/\" # CHANGE ME!"
   ]
  },
  {
   "cell_type": "code",
   "execution_count": 16,
   "metadata": {},
   "outputs": [],
   "source": [
    "sc2_files = pd.DataFrame(\n",
    "    [{\"run\": 1, \"user\": \"control\", \"videos\": \"all\", \"path\": prefix+\"data/-1_Sec02Gr2Sc2Cntrl_CJ_02-12-19-31_like_by_hashtag_data_all_videos.csv\"},\n",
    "     {\"run\": 1, \"user\": \"control\", \"videos\": \"liked\", \"path\": prefix+\"data/-1_Sec02Gr2Sc2Cntrl_CJ_02-12-19-31_like_by_hashtag_data_liked_videos.csv\"},\n",
    "     {\"run\": 1, \"user\": \"active\", \"videos\": \"all\", \"path\": prefix+\"data/2_Sec02Gr2Sc2Activ_CJ_02-12-19-30_like_by_control_data_all_videos.csv\"},\n",
    "     {\"run\": 1, \"user\": \"active\", \"videos\": \"liked\", \"path\": prefix+\"data/2_Sec02Gr2Sc2Activ_CJ_02-12-19-30_like_by_control_data_liked_videos.csv\"},\n",
    "\n",
    "     {\"run\": 2, \"user\": \"control\", \"videos\": \"all\", \"path\": prefix+\"data/-1_Sec02Gr2Sc2Cntrl_CJ_02-12-19-40_like_by_hashtag_data_all_videos.csv\"},\n",
    "     {\"run\": 2, \"user\": \"control\", \"videos\": \"liked\", \"path\": prefix+\"data/-1_Sec02Gr2Sc2Cntrl_CJ_02-12-19-40_like_by_hashtag_data_liked_videos.csv\"},\n",
    "     {\"run\": 2, \"user\": \"active\", \"videos\": \"all\", \"path\": prefix+\"data/2_Sec02Gr2Sc2Activ_CJ_02-12-19-39_like_by_control_data_all_videos.csv\"},\n",
    "     {\"run\": 2, \"user\": \"active\", \"videos\": \"liked\", \"path\": prefix+\"data/2_Sec02Gr2Sc2Activ_CJ_02-12-19-39_like_by_control_data_liked_videos.csv\"},\n",
    "\n",
    "     {\"run\": 3, \"user\": \"control\", \"videos\": \"all\", \"path\": prefix+\"data/-1_Sec02Gr2Sc2Cntrl_CJ_02-13-13-31_like_by_hashtag_data_all_videos.csv\"},\n",
    "     {\"run\": 3, \"user\": \"control\", \"videos\": \"liked\", \"path\": prefix+\"data/-1_Sec02Gr2Sc2Cntrl_CJ_02-13-13-31_like_by_hashtag_data_liked_videos.csv\"},\n",
    "     {\"run\": 3, \"user\": \"active\", \"videos\": \"all\", \"path\": prefix+\"data/2_Sec02Gr2Sc2Activ_CJ_02-13-13-30_like_by_control_data_all_videos.csv\"},\n",
    "     {\"run\": 3, \"user\": \"active\", \"videos\": \"liked\", \"path\": prefix+\"data/2_Sec02Gr2Sc2Activ_CJ_02-13-13-30_like_by_control_data_liked_videos.csv\"},\n",
    "\n",
    "     {\"run\": 4, \"user\": \"control\", \"videos\": \"all\", \"path\": prefix+\"data/-1_Sec02Gr2Sc2Cntrl_CJ_02-13-13-37_like_by_hashtag_data_all_videos.csv\"},\n",
    "     {\"run\": 4, \"user\": \"control\", \"videos\": \"liked\", \"path\": prefix+\"data/-1_Sec02Gr2Sc2Cntrl_CJ_02-13-13-37_like_by_hashtag_data_liked_videos.csv\"},\n",
    "     {\"run\": 4, \"user\": \"active\", \"videos\": \"all\", \"path\": prefix+\"data/2_Sec02Gr2Sc2Activ_CJ_02-13-13-36_like_by_control_data_all_videos.csv\"},\n",
    "     {\"run\": 4, \"user\": \"active\", \"videos\": \"liked\", \"path\": prefix+\"data/2_Sec02Gr2Sc2Activ_CJ_02-13-13-36_like_by_control_data_liked_videos.csv\"},\n",
    "\n",
    "     {\"run\": 5, \"user\": \"control\", \"videos\": \"all\", \"path\": prefix+\"data/-1_Sec02Gr2Sc2Cntrl_CJ_02-13-13-53_like_by_hashtag_data_all_videos.csv\"},\n",
    "     {\"run\": 5, \"user\": \"control\", \"videos\": \"liked\", \"path\": prefix+\"data/-1_Sec02Gr2Sc2Cntrl_CJ_02-13-13-53_like_by_hashtag_data_liked_videos.csv\"},\n",
    "     {\"run\": 5, \"user\": \"active\", \"videos\": \"all\", \"path\": prefix+\"data/2_Sec02Gr2Sc2Activ_CJ_02-13-13-52_like_by_control_data_all_videos.csv\"},\n",
    "     {\"run\": 5, \"user\": \"active\", \"videos\": \"liked\", \"path\": prefix+\"data/2_Sec02Gr2Sc2Activ_CJ_02-13-13-52_like_by_control_data_liked_videos.csv\"}\n",
    "    ])"
   ]
  },
  {
   "cell_type": "markdown",
   "metadata": {},
   "source": [
    "## 2. Data Manipulation <a class=\"anchor\" id=\"two\"></a>\n",
    "For each scenario:\n",
    "1. Read the csvs and name each dataframe based on its run number, user type, and types of videos stored\n",
    "2. Combine all runs into one single dataframe for each scenario for each user type and type of video stored (control_all, active_all, active_liked)"
   ]
  },
  {
   "cell_type": "code",
   "execution_count": 17,
   "metadata": {},
   "outputs": [],
   "source": [
    "def read_csv_and_name_dfs(sc_files):\n",
    "    sc = {}\n",
    "    for row in range(sc_files.shape[0]):\n",
    "        var_name = \"r{}_{}_{}\".format(sc_files.iloc[row][\"run\"], sc_files.iloc[row][\"user\"], sc_files.iloc[row][\"videos\"])\n",
    "        sc[var_name] = pd.read_csv(sc_files.iloc[row][\"path\"])\n",
    "        sc[var_name][\"run\"] = sc_files.iloc[row][\"run\"] #add new column for run number\n",
    "    return sc\n",
    "\n",
    "sc2 = read_csv_and_name_dfs(sc2_files)"
   ]
  },
  {
   "cell_type": "code",
   "execution_count": 106,
   "metadata": {},
   "outputs": [],
   "source": [
    "def merge_runs(sc):\n",
    "    to_merge_control_all = []\n",
    "    to_merge_active_all = []\n",
    "    to_merge_active_liked = []\n",
    "    for run_num in range(1, 6): #CHANGE LATER TO 1 TO 21\n",
    "        to_merge_control_all.append(sc[\"r{}_control_all\".format(run_num)])\n",
    "        to_merge_active_all.append(sc[\"r{}_active_all\".format(run_num)])\n",
    "        to_merge_active_liked.append(sc[\"r{}_active_liked\".format(run_num)])\n",
    "\n",
    "    control_all = pd.concat(to_merge_control_all)\n",
    "    active_all = pd.concat(to_merge_active_all)\n",
    "    active_liked = pd.concat(to_merge_active_liked)\n",
    "    return (control_all, active_all, active_liked)\n",
    "\n",
    "sc2_control_all = merge_runs(sc2)[0]\n",
    "sc2_active_all = merge_runs(sc2)[1]\n",
    "sc2_active_liked = merge_runs(sc2)[2]"
   ]
  },
  {
   "cell_type": "markdown",
   "metadata": {},
   "source": [
    "NOTE: From now on, to access the information from a certain csv file, call the following: sc**2**[\"r**1\\_control\\_all**\"]\n",
    "where the bolded text should be replaced with\n",
    "* scenario number (1,2,3,4,5,6)\n",
    "* run number (1,2,3,... 20)\n",
    "* if user is control or active (control, active)\n",
    "* if the data has all or only liked videos (all, liked) <br>\n",
    "For example: `sc2[\"r1_control_all\"]` gives (as a dataframe) all videos that scenario 2's control user saw **for only the first run**\n",
    "\n",
    "\n",
    "NOTE: To access information for all runs for a certain scenario's user and videos seen, call the following: sc**2\\_control\\_all**\n",
    "where the bolded text should be replaced with\n",
    "* scenario number (1,2,3,4,5,6)\n",
    "* either one of control_all, active_all, or active_liked <br>\n",
    "For example: `sc2_active_all` gives (as a dataframe) all videos that scenario 2's active user saw **during all 20 runs**"
   ]
  },
  {
   "cell_type": "markdown",
   "metadata": {},
   "source": [
    "However, you can always access a subset of the data for a specific run, by the following syntax: scenario_user_video[scenario_user_video.run == specificrunnumber].\n",
    "\n",
    "For example, `sc2_active_all[sc2_active_all.run == 2]` is equivalent to `sc2[\"r2_active_all\"]` <br>\n",
    "(which gives all the videos that scenario 2's active user saw for only the 2nd run)"
   ]
  },
  {
   "cell_type": "markdown",
   "metadata": {},
   "source": [
    "## 3. Analyzing Hashtags <a class=\"anchor\" id=\"two\"></a>\n",
    "\n",
    "### 3.1 Data Cleaning"
   ]
  },
  {
   "cell_type": "markdown",
   "metadata": {},
   "source": [
    "### 3.2 Frequency Table"
   ]
  },
  {
   "cell_type": "markdown",
   "metadata": {},
   "source": [
    "### 3.3 Jaccard Index"
   ]
  }
 ],
 "metadata": {
  "kernelspec": {
   "display_name": "Python 3",
   "language": "python",
   "name": "python3"
  },
  "language_info": {
   "codemirror_mode": {
    "name": "ipython",
    "version": 3
   },
   "file_extension": ".py",
   "mimetype": "text/x-python",
   "name": "python",
   "nbconvert_exporter": "python",
   "pygments_lexer": "ipython3",
   "version": "3.11.5"
  }
 },
 "nbformat": 4,
 "nbformat_minor": 2
}
