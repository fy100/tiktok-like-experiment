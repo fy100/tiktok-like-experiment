{
 "cells": [
  {
   "cell_type": "code",
   "execution_count": null,
   "id": "4a616b38",
   "metadata": {},
   "outputs": [],
   "source": [
    "#pip install Selenium\n",
    "#%pip install seleniumbase"
   ]
  },
  {
   "cell_type": "code",
   "execution_count": 110,
   "id": "5366ecf9",
   "metadata": {},
   "outputs": [],
   "source": [
    "from seleniumbase import Driver\n",
    "#from selenium import webdriver\n",
    "from selenium.webdriver.common.by import By # contains operators for the type of search we want to do\n",
    "import time"
   ]
  },
  {
   "cell_type": "markdown",
   "id": "f06bdc7b",
   "metadata": {},
   "source": [
    "### 1. Login with email\n",
    "it will require manual verification at the end though\n",
    "### 2. Get video list and like "
   ]
  },
  {
   "cell_type": "code",
   "execution_count": 113,
   "id": "94752ef2",
   "metadata": {},
   "outputs": [],
   "source": [
    "class Tiktok_audit:\n",
    "\n",
    "    def __init__(self, bot_user_num, bot_test_scenario, bot_email, bot_password):\n",
    "        self.user_num = bot_user_num\n",
    "        self.test_scenario = bot_test_scenario\n",
    "        self.email = bot_email\n",
    "        self.password = bot_password\n",
    "        self.browser = Driver(uc=True)\n",
    "        self.liked_list = []\n",
    "        \n",
    "        #different approaches of selecting posts to like\n",
    "        self.approach = None #random, hashtag, content\n",
    "        self.to_like_list_random = [] #randomly\n",
    "        self.to_like_list_hashtag = [] #user personas defined by set of hashtags\n",
    "        self.to_like_list_content = []  #those that matched specific content creators or sounds\n",
    "        \n",
    "        self.batch_num = None  #1 batch = 30 posts\n",
    "        self.videos_list = []\n",
    "    \n",
    "    def fetch_tiktok(self):\n",
    "        self.browser.uc_open_with_reconnect('https://www.tiktok.com/en/',reconnect_time=5) #link to login page\n",
    "\n",
    "    def login(self):\n",
    "        time.sleep(1)\n",
    "\n",
    "        # click \"use phone/number/email\" on login page\n",
    "        use_email = self.browser.find_element(By.XPATH, \"/html/body/div[5]/div[3]/div/div/div/div[1]/div/div/div[1]/div[2]/div[2]\")\n",
    "        use_email.click()\n",
    "\n",
    "        time.sleep(4)\n",
    "\n",
    "        # click \"login with email or username\"\n",
    "        self.browser.find_element(By.XPATH, \"/html/body/div[5]/div[3]/div/div/div/div[1]/div[2]/form/div[1]/a\").click()\n",
    "\n",
    "        time.sleep(1)\n",
    "\n",
    "        input_username = self.browser.find_element(By.XPATH, \"/html/body/div[5]/div[3]/div/div/div/div[1]/div[2]/form/div[1]/input\")\n",
    "        input_password = self.browser.find_element(By.XPATH, \"/html/body/div[5]/div[3]/div/div/div/div[1]/div[2]/form/div[2]/div/input\")\n",
    "\n",
    "        input_username.send_keys(self.email)\n",
    "        input_password.send_keys(self.password)\n",
    "\n",
    "        time.sleep(3)\n",
    "\n",
    "        login = self.browser.find_element(By.XPATH, \"/html/body/div[5]/div[3]/div/div/div/div[1]/div[2]/form/button\")\n",
    "        login.click()\n",
    "    \n",
    "    def like_posts(self):\n",
    "        time.sleep(10)\n",
    "        like_list = self.browser.find_elements(By.XPATH, '//*[@class=\"css-1ok4pbl-ButtonActionItem e1hk3hf90\"]')\n",
    "        print(\"num of posts\",len(like_list))\n",
    "        for i in range(len(like_list)):\n",
    "            if i % 4 == 0:\n",
    "                print(like_list[i].get_attribute(\"aria-label\"))\n",
    "                time.sleep(2)\n",
    "        for i in range(len(like_list)):\n",
    "            if i % 4 == 0:\n",
    "                like_list[i].click()\n",
    "        \n",
    "        "
   ]
  },
  {
   "attachments": {},
   "cell_type": "markdown",
   "id": "b850643d",
   "metadata": {},
   "source": [
    "#### Need to debug from here\n",
    "the first run of like_posts() only processed 3 like buttons, and liked 3\n",
    "\n",
    "num of posts 12 means it identified 12 buttons (bad name will change tmr), so since one post has 4 buttons (like,comment,follow,share) 12 / 4 = 3 like buttons"
   ]
  },
  {
   "cell_type": "code",
   "execution_count": 114,
   "id": "1332b0ff",
   "metadata": {},
   "outputs": [
    {
     "name": "stdout",
     "output_type": "stream",
     "text": [
      "num of posts 12\n",
      "Like video\n",
      "263.5K likes\n",
      "Like video\n",
      "940.8K likes\n",
      "Like video\n",
      "2.1M likes\n"
     ]
    }
   ],
   "source": [
    "johanna = Tiktok_audit(1,2,\"username@gmail.com\",\"password\") #put a random # for param bot_num & bot_test_scenario\n",
    "johanna.fetch_tiktok()\n",
    "\n",
    "johanna.login()\n",
    "johanna.like_posts()"
   ]
  },
  {
   "attachments": {},
   "cell_type": "markdown",
   "id": "740b0fa3",
   "metadata": {},
   "source": [
    "the 2nd run identified 48/4 = 12 like buttons, but these were not on tiktok page -- thus no posts were liked"
   ]
  },
  {
   "cell_type": "code",
   "execution_count": 109,
   "id": "254046ca",
   "metadata": {},
   "outputs": [
    {
     "name": "stdout",
     "output_type": "stream",
     "text": [
      "num of posts 48\n",
      "Like video\n",
      "466.9K likes\n",
      "Like video\n",
      "95.3K likes\n",
      "Like video\n",
      "416.7K likes\n",
      "Like video\n",
      "605.8K likes\n",
      "Like video\n",
      "414.7K likes\n",
      "Like video\n",
      "106.6K likes\n",
      "Like video\n",
      "119.8K likes\n",
      "Like video\n",
      "678.5K likes\n",
      "Like video\n",
      "9302 likes\n",
      "Like video\n",
      "23.8K likes\n",
      "Like video\n",
      "29.1K likes\n",
      "Like video\n",
      "178.4K likes\n"
     ]
    }
   ],
   "source": [
    "johanna.like_posts()"
   ]
  },
  {
   "attachments": {},
   "cell_type": "markdown",
   "id": "d83a13d1",
   "metadata": {},
   "source": [
    "#### This code liked all posts on the screen until it ran into an error\n",
    "because the first 3 posts were already liked on the page, they were un-liked."
   ]
  },
  {
   "cell_type": "code",
   "execution_count": 115,
   "id": "c46d0215",
   "metadata": {},
   "outputs": [
    {
     "name": "stdout",
     "output_type": "stream",
     "text": [
      "num of posts 168\n",
      "Like video\n",
      "263.5K likes\n",
      "Like video\n",
      "940.8K likes\n",
      "Like video\n",
      "2.1M likes\n",
      "Like video\n",
      "2.4M likes\n",
      "Like video\n",
      "468.7K likes\n",
      "Like video\n",
      "969K likes\n",
      "Like video\n",
      "467.6K likes\n",
      "Like video\n",
      "7020 likes\n",
      "Like video\n",
      "243.6K likes\n",
      "Like video\n",
      "5.7M likes\n",
      "Like video\n",
      "60.1K likes\n",
      "Like video\n",
      "1.2M likes\n",
      "Like video\n",
      "5.5M likes\n",
      "Like video\n",
      "113.4K likes\n",
      "Like video\n",
      "37.2K likes\n",
      "Like video\n",
      "226.3K likes\n",
      "Like video\n",
      "473.4K likes\n",
      "Like video\n",
      "117.8K likes\n",
      "Like video\n",
      "98.2K likes\n",
      "Like video\n",
      "1.1M likes\n",
      "Like video\n",
      "269K likes\n",
      "Like video\n",
      "146.6K likes\n",
      "Like video\n",
      "2444 likes\n",
      "Like video\n",
      "1.1M likes\n",
      "Like video\n",
      "2.5M likes\n",
      "Like video\n",
      "102.6K likes\n",
      "Like video\n",
      "1.4M likes\n",
      "Like video\n",
      "1611 likes\n",
      "Like video\n",
      "343.5K likes\n",
      "Like video\n",
      "391.2K likes\n",
      "Like video\n",
      "79K likes\n",
      "Like video\n",
      "707.9K likes\n",
      "Like video\n",
      "1674 likes\n",
      "Like video\n",
      "433.4K likes\n",
      "Like video\n",
      "64.9K likes\n",
      "Like video\n",
      "1.3M likes\n",
      "Like video\n",
      "1M likes\n",
      "Like video\n",
      "90K likes\n",
      "Like video\n",
      "53.5K likes\n",
      "Like video\n",
      "635.8K likes\n",
      "Like video\n",
      "244.8K likes\n",
      "Like video\n",
      "52.8K likes\n"
     ]
    },
    {
     "ename": "ElementClickInterceptedException",
     "evalue": "Message: element click intercepted: Element <button type=\"button\" aria-label=\"Like video\n1611 likes\" aria-pressed=\"false\" class=\"css-1ok4pbl-ButtonActionItem e1hk3hf90\">...</button> is not clickable at point (1060, 716). Other element would receive the click: <div class=\"css-qxzyco-DivBottomContainer ew8lpw50\">...</div>\n  (Session info: chrome=121.0.6167.85)\nStacktrace:\n0   uc_driver                           0x000000010484a168 uc_driver + 4673896\n1   uc_driver                           0x00000001048419c3 uc_driver + 4639171\n2   uc_driver                           0x0000000104435fdd uc_driver + 397277\n3   uc_driver                           0x0000000104488dee uc_driver + 736750\n4   uc_driver                           0x0000000104486b6a uc_driver + 727914\n5   uc_driver                           0x00000001044843ca uc_driver + 717770\n6   uc_driver                           0x00000001044831a5 uc_driver + 713125\n7   uc_driver                           0x00000001044766a7 uc_driver + 661159\n8   uc_driver                           0x00000001044a48c2 uc_driver + 850114\n9   uc_driver                           0x0000000104476038 uc_driver + 659512\n10  uc_driver                           0x00000001044a4a7e uc_driver + 850558\n11  uc_driver                           0x00000001044c3796 uc_driver + 976790\n12  uc_driver                           0x00000001044a4663 uc_driver + 849507\n13  uc_driver                           0x00000001044741cf uc_driver + 651727\n14  uc_driver                           0x00000001044751ae uc_driver + 655790\n15  uc_driver                           0x000000010480a380 uc_driver + 4412288\n16  uc_driver                           0x000000010480f798 uc_driver + 4433816\n17  uc_driver                           0x00000001047eed71 uc_driver + 4300145\n18  uc_driver                           0x00000001048104e6 uc_driver + 4437222\n19  uc_driver                           0x00000001047e0d3c uc_driver + 4242748\n20  uc_driver                           0x0000000104830208 uc_driver + 4567560\n21  uc_driver                           0x00000001048303be uc_driver + 4567998\n22  uc_driver                           0x0000000104841603 uc_driver + 4638211\n23  libsystem_pthread.dylib             0x00007ff80ff9b202 _pthread_start + 99\n24  libsystem_pthread.dylib             0x00007ff80ff96bab thread_start + 15\n",
     "output_type": "error",
     "traceback": [
      "\u001b[0;31m---------------------------------------------------------------------------\u001b[0m",
      "\u001b[0;31mElementClickInterceptedException\u001b[0m          Traceback (most recent call last)",
      "Cell \u001b[0;32mIn[115], line 1\u001b[0m\n\u001b[0;32m----> 1\u001b[0m johanna\u001b[39m.\u001b[39;49mget_video_list_and_like()\n",
      "Cell \u001b[0;32mIn[113], line 58\u001b[0m, in \u001b[0;36mTiktok_audit.get_video_list_and_like\u001b[0;34m(self)\u001b[0m\n\u001b[1;32m     56\u001b[0m \u001b[39mfor\u001b[39;00m i \u001b[39min\u001b[39;00m \u001b[39mrange\u001b[39m(\u001b[39mlen\u001b[39m(like_list)):\n\u001b[1;32m     57\u001b[0m     \u001b[39mif\u001b[39;00m i \u001b[39m%\u001b[39m \u001b[39m4\u001b[39m \u001b[39m==\u001b[39m \u001b[39m0\u001b[39m:\n\u001b[0;32m---> 58\u001b[0m         like_list[i]\u001b[39m.\u001b[39;49mclick()\n",
      "File \u001b[0;32m~/.virtualenvs/venv/lib/python3.11/site-packages/selenium/webdriver/remote/webelement.py:94\u001b[0m, in \u001b[0;36mWebElement.click\u001b[0;34m(self)\u001b[0m\n\u001b[1;32m     92\u001b[0m \u001b[39mdef\u001b[39;00m \u001b[39mclick\u001b[39m(\u001b[39mself\u001b[39m) \u001b[39m-\u001b[39m\u001b[39m>\u001b[39m \u001b[39mNone\u001b[39;00m:\n\u001b[1;32m     93\u001b[0m \u001b[39m    \u001b[39m\u001b[39m\"\"\"Clicks the element.\"\"\"\u001b[39;00m\n\u001b[0;32m---> 94\u001b[0m     \u001b[39mself\u001b[39;49m\u001b[39m.\u001b[39;49m_execute(Command\u001b[39m.\u001b[39;49mCLICK_ELEMENT)\n",
      "File \u001b[0;32m~/.virtualenvs/venv/lib/python3.11/site-packages/selenium/webdriver/remote/webelement.py:395\u001b[0m, in \u001b[0;36mWebElement._execute\u001b[0;34m(self, command, params)\u001b[0m\n\u001b[1;32m    393\u001b[0m     params \u001b[39m=\u001b[39m {}\n\u001b[1;32m    394\u001b[0m params[\u001b[39m\"\u001b[39m\u001b[39mid\u001b[39m\u001b[39m\"\u001b[39m] \u001b[39m=\u001b[39m \u001b[39mself\u001b[39m\u001b[39m.\u001b[39m_id\n\u001b[0;32m--> 395\u001b[0m \u001b[39mreturn\u001b[39;00m \u001b[39mself\u001b[39;49m\u001b[39m.\u001b[39;49m_parent\u001b[39m.\u001b[39;49mexecute(command, params)\n",
      "File \u001b[0;32m~/.virtualenvs/venv/lib/python3.11/site-packages/selenium/webdriver/remote/webdriver.py:347\u001b[0m, in \u001b[0;36mWebDriver.execute\u001b[0;34m(self, driver_command, params)\u001b[0m\n\u001b[1;32m    345\u001b[0m response \u001b[39m=\u001b[39m \u001b[39mself\u001b[39m\u001b[39m.\u001b[39mcommand_executor\u001b[39m.\u001b[39mexecute(driver_command, params)\n\u001b[1;32m    346\u001b[0m \u001b[39mif\u001b[39;00m response:\n\u001b[0;32m--> 347\u001b[0m     \u001b[39mself\u001b[39;49m\u001b[39m.\u001b[39;49merror_handler\u001b[39m.\u001b[39;49mcheck_response(response)\n\u001b[1;32m    348\u001b[0m     response[\u001b[39m\"\u001b[39m\u001b[39mvalue\u001b[39m\u001b[39m\"\u001b[39m] \u001b[39m=\u001b[39m \u001b[39mself\u001b[39m\u001b[39m.\u001b[39m_unwrap_value(response\u001b[39m.\u001b[39mget(\u001b[39m\"\u001b[39m\u001b[39mvalue\u001b[39m\u001b[39m\"\u001b[39m, \u001b[39mNone\u001b[39;00m))\n\u001b[1;32m    349\u001b[0m     \u001b[39mreturn\u001b[39;00m response\n",
      "File \u001b[0;32m~/.virtualenvs/venv/lib/python3.11/site-packages/selenium/webdriver/remote/errorhandler.py:229\u001b[0m, in \u001b[0;36mErrorHandler.check_response\u001b[0;34m(self, response)\u001b[0m\n\u001b[1;32m    227\u001b[0m         alert_text \u001b[39m=\u001b[39m value[\u001b[39m\"\u001b[39m\u001b[39malert\u001b[39m\u001b[39m\"\u001b[39m]\u001b[39m.\u001b[39mget(\u001b[39m\"\u001b[39m\u001b[39mtext\u001b[39m\u001b[39m\"\u001b[39m)\n\u001b[1;32m    228\u001b[0m     \u001b[39mraise\u001b[39;00m exception_class(message, screen, stacktrace, alert_text)  \u001b[39m# type: ignore[call-arg]  # mypy is not smart enough here\u001b[39;00m\n\u001b[0;32m--> 229\u001b[0m \u001b[39mraise\u001b[39;00m exception_class(message, screen, stacktrace)\n",
      "\u001b[0;31mElementClickInterceptedException\u001b[0m: Message: element click intercepted: Element <button type=\"button\" aria-label=\"Like video\n1611 likes\" aria-pressed=\"false\" class=\"css-1ok4pbl-ButtonActionItem e1hk3hf90\">...</button> is not clickable at point (1060, 716). Other element would receive the click: <div class=\"css-qxzyco-DivBottomContainer ew8lpw50\">...</div>\n  (Session info: chrome=121.0.6167.85)\nStacktrace:\n0   uc_driver                           0x000000010484a168 uc_driver + 4673896\n1   uc_driver                           0x00000001048419c3 uc_driver + 4639171\n2   uc_driver                           0x0000000104435fdd uc_driver + 397277\n3   uc_driver                           0x0000000104488dee uc_driver + 736750\n4   uc_driver                           0x0000000104486b6a uc_driver + 727914\n5   uc_driver                           0x00000001044843ca uc_driver + 717770\n6   uc_driver                           0x00000001044831a5 uc_driver + 713125\n7   uc_driver                           0x00000001044766a7 uc_driver + 661159\n8   uc_driver                           0x00000001044a48c2 uc_driver + 850114\n9   uc_driver                           0x0000000104476038 uc_driver + 659512\n10  uc_driver                           0x00000001044a4a7e uc_driver + 850558\n11  uc_driver                           0x00000001044c3796 uc_driver + 976790\n12  uc_driver                           0x00000001044a4663 uc_driver + 849507\n13  uc_driver                           0x00000001044741cf uc_driver + 651727\n14  uc_driver                           0x00000001044751ae uc_driver + 655790\n15  uc_driver                           0x000000010480a380 uc_driver + 4412288\n16  uc_driver                           0x000000010480f798 uc_driver + 4433816\n17  uc_driver                           0x00000001047eed71 uc_driver + 4300145\n18  uc_driver                           0x00000001048104e6 uc_driver + 4437222\n19  uc_driver                           0x00000001047e0d3c uc_driver + 4242748\n20  uc_driver                           0x0000000104830208 uc_driver + 4567560\n21  uc_driver                           0x00000001048303be uc_driver + 4567998\n22  uc_driver                           0x0000000104841603 uc_driver + 4638211\n23  libsystem_pthread.dylib             0x00007ff80ff9b202 _pthread_start + 99\n24  libsystem_pthread.dylib             0x00007ff80ff96bab thread_start + 15\n"
     ]
    }
   ],
   "source": [
    "johanna.like_posts()"
   ]
  },
  {
   "attachments": {},
   "cell_type": "markdown",
   "id": "c2c63a86",
   "metadata": {},
   "source": [
    "### Summary:\n",
    "while this code fixed the temporary liking issue, it's still unclear why the number of posts it loads to like is different for every run of like_posts(). \n",
    "maybe we trigger something when we access the like at the last post of the page?"
   ]
  }
 ],
 "metadata": {
  "kernelspec": {
   "display_name": "venv",
   "language": "python",
   "name": "python3"
  },
  "language_info": {
   "codemirror_mode": {
    "name": "ipython",
    "version": 3
   },
   "file_extension": ".py",
   "mimetype": "text/x-python",
   "name": "python",
   "nbconvert_exporter": "python",
   "pygments_lexer": "ipython3",
   "version": "3.11.4"
  },
  "vscode": {
   "interpreter": {
    "hash": "998e054e2a336645a1c034d50f95524bbbabc00cc66740a3f3687176c9a2862f"
   }
  }
 },
 "nbformat": 4,
 "nbformat_minor": 5
}
